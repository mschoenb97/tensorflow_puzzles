{
  "nbformat": 4,
  "nbformat_minor": 0,
  "metadata": {
    "colab": {
      "provenance": []
    },
    "kernelspec": {
      "name": "python3",
      "display_name": "Python 3"
    },
    "language_info": {
      "name": "python"
    }
  },
  "cells": [
    {
      "cell_type": "code",
      "source": [
        "import tensorflow as tf"
      ],
      "metadata": {
        "id": "MEhLCTL4q4rv"
      },
      "execution_count": 71,
      "outputs": []
    },
    {
      "cell_type": "markdown",
      "source": [
        "# Introduction\n",
        "\n",
        "When writing tensorflow, I often find myself hitting difficult-to-parse errors and highly unexpected behavior. My strategy for resolving these errors is to\n",
        "1. Whittle the code I'm working with down to a minimum example that reproduces the error.\n",
        "2. If the solution is not clear, ask ChatGPT why I'm getting the unexpected behavior.\n",
        "\n",
        "This is a nearly foolproof formula for debugging all tensorflow issues. In addition, I end up with bite-sized examples of tensorflow code that provide counterintuitive knowledge about how the library works. \n",
        "\n",
        "With this document, I'm sharing these \"tensorflow puzzles\" for others to learn what I've learned the easy way. "
      ],
      "metadata": {
        "id": "MUIZSYZ5pQY1"
      }
    },
    {
      "cell_type": "markdown",
      "source": [
        "# Example 1: Not-so-forbidden paths\n",
        "\n",
        "In the example below, we look at some oddities with the `tf.cond` operator. This is your tensorflow equivalent of an `if` statement, but it doesn't work quite like you might expect. Here we see that the function takes two different paths depending on whether `y` is passed in as a string or not. We use `y` as an argument for multiplication only if it is not a string. "
      ],
      "metadata": {
        "id": "4Qmmv1_LrPkj"
      }
    },
    {
      "cell_type": "code",
      "source": [
        "class Example1:\n",
        "\n",
        "    def __init__(self, y):\n",
        "\n",
        "        self.y_is_string = tf.constant(isinstance(y, str), dtype=tf.bool)\n",
        "        self.y = tf.convert_to_tensor(y)\n",
        "\n",
        "\n",
        "    @tf.function\n",
        "    def __call__(self, x):\n",
        "\n",
        "        return tf.cond(\n",
        "            self.y_is_string,\n",
        "            true_fn=lambda: x * tf.constant(2.0, dtype=tf.float32),\n",
        "            false_fn=lambda: x * self.y,\n",
        "        )\n",
        "\n",
        "example = Example1(y=2.0)\n",
        "print(f'{example(1.0).numpy() = }')\n",
        "\n",
        "example = Example1(y='string')\n",
        "print(f'{example(1.0).numpy() = }')"
      ],
      "metadata": {
        "colab": {
          "base_uri": "https://localhost:8080/",
          "height": 511
        },
        "id": "glg5tGKcqqyd",
        "outputId": "cbc321b6-2928-42eb-b4ae-a3fed8ad266a"
      },
      "execution_count": 82,
      "outputs": [
        {
          "output_type": "stream",
          "name": "stdout",
          "text": [
            "example(1.0).numpy() = 2.0\n"
          ]
        },
        {
          "output_type": "error",
          "ename": "TypeError",
          "evalue": "ignored",
          "traceback": [
            "\u001b[0;31m---------------------------------------------------------------------------\u001b[0m",
            "\u001b[0;31mTypeError\u001b[0m                                 Traceback (most recent call last)",
            "\u001b[0;32m<ipython-input-82-4589827fcc60>\u001b[0m in \u001b[0;36m<cell line: 22>\u001b[0;34m()\u001b[0m\n\u001b[1;32m     20\u001b[0m \u001b[0;34m\u001b[0m\u001b[0m\n\u001b[1;32m     21\u001b[0m \u001b[0mexample\u001b[0m \u001b[0;34m=\u001b[0m \u001b[0mExample1\u001b[0m\u001b[0;34m(\u001b[0m\u001b[0my\u001b[0m\u001b[0;34m=\u001b[0m\u001b[0;34m'string'\u001b[0m\u001b[0;34m)\u001b[0m\u001b[0;34m\u001b[0m\u001b[0;34m\u001b[0m\u001b[0m\n\u001b[0;32m---> 22\u001b[0;31m \u001b[0mprint\u001b[0m\u001b[0;34m(\u001b[0m\u001b[0;34mf'{example(1.0).numpy() = }'\u001b[0m\u001b[0;34m)\u001b[0m\u001b[0;34m\u001b[0m\u001b[0;34m\u001b[0m\u001b[0m\n\u001b[0m",
            "\u001b[0;32m/usr/local/lib/python3.10/dist-packages/tensorflow/python/util/traceback_utils.py\u001b[0m in \u001b[0;36merror_handler\u001b[0;34m(*args, **kwargs)\u001b[0m\n\u001b[1;32m    151\u001b[0m     \u001b[0;32mexcept\u001b[0m \u001b[0mException\u001b[0m \u001b[0;32mas\u001b[0m \u001b[0me\u001b[0m\u001b[0;34m:\u001b[0m\u001b[0;34m\u001b[0m\u001b[0;34m\u001b[0m\u001b[0m\n\u001b[1;32m    152\u001b[0m       \u001b[0mfiltered_tb\u001b[0m \u001b[0;34m=\u001b[0m \u001b[0m_process_traceback_frames\u001b[0m\u001b[0;34m(\u001b[0m\u001b[0me\u001b[0m\u001b[0;34m.\u001b[0m\u001b[0m__traceback__\u001b[0m\u001b[0;34m)\u001b[0m\u001b[0;34m\u001b[0m\u001b[0;34m\u001b[0m\u001b[0m\n\u001b[0;32m--> 153\u001b[0;31m       \u001b[0;32mraise\u001b[0m \u001b[0me\u001b[0m\u001b[0;34m.\u001b[0m\u001b[0mwith_traceback\u001b[0m\u001b[0;34m(\u001b[0m\u001b[0mfiltered_tb\u001b[0m\u001b[0;34m)\u001b[0m \u001b[0;32mfrom\u001b[0m \u001b[0;32mNone\u001b[0m\u001b[0;34m\u001b[0m\u001b[0;34m\u001b[0m\u001b[0m\n\u001b[0m\u001b[1;32m    154\u001b[0m     \u001b[0;32mfinally\u001b[0m\u001b[0;34m:\u001b[0m\u001b[0;34m\u001b[0m\u001b[0;34m\u001b[0m\u001b[0m\n\u001b[1;32m    155\u001b[0m       \u001b[0;32mdel\u001b[0m \u001b[0mfiltered_tb\u001b[0m\u001b[0;34m\u001b[0m\u001b[0;34m\u001b[0m\u001b[0m\n",
            "\u001b[0;32m/tmp/__autograph_generated_file9kq7e_3t.py\u001b[0m in \u001b[0;36mtf____call__\u001b[0;34m(self, x)\u001b[0m\n\u001b[1;32m     10\u001b[0m                 \u001b[0;32mtry\u001b[0m\u001b[0;34m:\u001b[0m\u001b[0;34m\u001b[0m\u001b[0;34m\u001b[0m\u001b[0m\n\u001b[1;32m     11\u001b[0m                     \u001b[0mdo_return\u001b[0m \u001b[0;34m=\u001b[0m \u001b[0;32mTrue\u001b[0m\u001b[0;34m\u001b[0m\u001b[0;34m\u001b[0m\u001b[0m\n\u001b[0;32m---> 12\u001b[0;31m                     \u001b[0mretval_\u001b[0m \u001b[0;34m=\u001b[0m \u001b[0mag__\u001b[0m\u001b[0;34m.\u001b[0m\u001b[0mconverted_call\u001b[0m\u001b[0;34m(\u001b[0m\u001b[0mag__\u001b[0m\u001b[0;34m.\u001b[0m\u001b[0mld\u001b[0m\u001b[0;34m(\u001b[0m\u001b[0mtf\u001b[0m\u001b[0;34m)\u001b[0m\u001b[0;34m.\u001b[0m\u001b[0mcond\u001b[0m\u001b[0;34m,\u001b[0m \u001b[0;34m(\u001b[0m\u001b[0mag__\u001b[0m\u001b[0;34m.\u001b[0m\u001b[0mld\u001b[0m\u001b[0;34m(\u001b[0m\u001b[0mself\u001b[0m\u001b[0;34m)\u001b[0m\u001b[0;34m.\u001b[0m\u001b[0my_is_string\u001b[0m\u001b[0;34m,\u001b[0m\u001b[0;34m)\u001b[0m\u001b[0;34m,\u001b[0m \u001b[0mdict\u001b[0m\u001b[0;34m(\u001b[0m\u001b[0mtrue_fn\u001b[0m\u001b[0;34m=\u001b[0m\u001b[0mag__\u001b[0m\u001b[0;34m.\u001b[0m\u001b[0mautograph_artifact\u001b[0m\u001b[0;34m(\u001b[0m\u001b[0;32mlambda\u001b[0m \u001b[0;34m:\u001b[0m \u001b[0mag__\u001b[0m\u001b[0;34m.\u001b[0m\u001b[0mld\u001b[0m\u001b[0;34m(\u001b[0m\u001b[0mx\u001b[0m\u001b[0;34m)\u001b[0m \u001b[0;34m*\u001b[0m \u001b[0mag__\u001b[0m\u001b[0;34m.\u001b[0m\u001b[0mconverted_call\u001b[0m\u001b[0;34m(\u001b[0m\u001b[0mag__\u001b[0m\u001b[0;34m.\u001b[0m\u001b[0mld\u001b[0m\u001b[0;34m(\u001b[0m\u001b[0mtf\u001b[0m\u001b[0;34m)\u001b[0m\u001b[0;34m.\u001b[0m\u001b[0mconstant\u001b[0m\u001b[0;34m,\u001b[0m \u001b[0;34m(\u001b[0m\u001b[0;36m2.0\u001b[0m\u001b[0;34m,\u001b[0m\u001b[0;34m)\u001b[0m\u001b[0;34m,\u001b[0m \u001b[0mdict\u001b[0m\u001b[0;34m(\u001b[0m\u001b[0mdtype\u001b[0m\u001b[0;34m=\u001b[0m\u001b[0mag__\u001b[0m\u001b[0;34m.\u001b[0m\u001b[0mld\u001b[0m\u001b[0;34m(\u001b[0m\u001b[0mtf\u001b[0m\u001b[0;34m)\u001b[0m\u001b[0;34m.\u001b[0m\u001b[0mfloat32\u001b[0m\u001b[0;34m)\u001b[0m\u001b[0;34m,\u001b[0m \u001b[0mfscope\u001b[0m\u001b[0;34m)\u001b[0m\u001b[0;34m)\u001b[0m\u001b[0;34m,\u001b[0m \u001b[0mfalse_fn\u001b[0m\u001b[0;34m=\u001b[0m\u001b[0mag__\u001b[0m\u001b[0;34m.\u001b[0m\u001b[0mautograph_artifact\u001b[0m\u001b[0;34m(\u001b[0m\u001b[0;32mlambda\u001b[0m \u001b[0;34m:\u001b[0m \u001b[0mag__\u001b[0m\u001b[0;34m.\u001b[0m\u001b[0mld\u001b[0m\u001b[0;34m(\u001b[0m\u001b[0mx\u001b[0m\u001b[0;34m)\u001b[0m \u001b[0;34m*\u001b[0m \u001b[0mag__\u001b[0m\u001b[0;34m.\u001b[0m\u001b[0mld\u001b[0m\u001b[0;34m(\u001b[0m\u001b[0mself\u001b[0m\u001b[0;34m)\u001b[0m\u001b[0;34m.\u001b[0m\u001b[0my\u001b[0m\u001b[0;34m)\u001b[0m\u001b[0;34m)\u001b[0m\u001b[0;34m,\u001b[0m \u001b[0mfscope\u001b[0m\u001b[0;34m)\u001b[0m\u001b[0;34m\u001b[0m\u001b[0;34m\u001b[0m\u001b[0m\n\u001b[0m\u001b[1;32m     13\u001b[0m                 \u001b[0;32mexcept\u001b[0m\u001b[0;34m:\u001b[0m\u001b[0;34m\u001b[0m\u001b[0;34m\u001b[0m\u001b[0m\n\u001b[1;32m     14\u001b[0m                     \u001b[0mdo_return\u001b[0m \u001b[0;34m=\u001b[0m \u001b[0;32mFalse\u001b[0m\u001b[0;34m\u001b[0m\u001b[0;34m\u001b[0m\u001b[0m\n",
            "\u001b[0;32m/tmp/__autograph_generated_file9kq7e_3t.py\u001b[0m in \u001b[0;36m<lambda>\u001b[0;34m()\u001b[0m\n\u001b[1;32m     10\u001b[0m                 \u001b[0;32mtry\u001b[0m\u001b[0;34m:\u001b[0m\u001b[0;34m\u001b[0m\u001b[0;34m\u001b[0m\u001b[0m\n\u001b[1;32m     11\u001b[0m                     \u001b[0mdo_return\u001b[0m \u001b[0;34m=\u001b[0m \u001b[0;32mTrue\u001b[0m\u001b[0;34m\u001b[0m\u001b[0;34m\u001b[0m\u001b[0m\n\u001b[0;32m---> 12\u001b[0;31m                     \u001b[0mretval_\u001b[0m \u001b[0;34m=\u001b[0m \u001b[0mag__\u001b[0m\u001b[0;34m.\u001b[0m\u001b[0mconverted_call\u001b[0m\u001b[0;34m(\u001b[0m\u001b[0mag__\u001b[0m\u001b[0;34m.\u001b[0m\u001b[0mld\u001b[0m\u001b[0;34m(\u001b[0m\u001b[0mtf\u001b[0m\u001b[0;34m)\u001b[0m\u001b[0;34m.\u001b[0m\u001b[0mcond\u001b[0m\u001b[0;34m,\u001b[0m \u001b[0;34m(\u001b[0m\u001b[0mag__\u001b[0m\u001b[0;34m.\u001b[0m\u001b[0mld\u001b[0m\u001b[0;34m(\u001b[0m\u001b[0mself\u001b[0m\u001b[0;34m)\u001b[0m\u001b[0;34m.\u001b[0m\u001b[0my_is_string\u001b[0m\u001b[0;34m,\u001b[0m\u001b[0;34m)\u001b[0m\u001b[0;34m,\u001b[0m \u001b[0mdict\u001b[0m\u001b[0;34m(\u001b[0m\u001b[0mtrue_fn\u001b[0m\u001b[0;34m=\u001b[0m\u001b[0mag__\u001b[0m\u001b[0;34m.\u001b[0m\u001b[0mautograph_artifact\u001b[0m\u001b[0;34m(\u001b[0m\u001b[0;32mlambda\u001b[0m \u001b[0;34m:\u001b[0m \u001b[0mag__\u001b[0m\u001b[0;34m.\u001b[0m\u001b[0mld\u001b[0m\u001b[0;34m(\u001b[0m\u001b[0mx\u001b[0m\u001b[0;34m)\u001b[0m \u001b[0;34m*\u001b[0m \u001b[0mag__\u001b[0m\u001b[0;34m.\u001b[0m\u001b[0mconverted_call\u001b[0m\u001b[0;34m(\u001b[0m\u001b[0mag__\u001b[0m\u001b[0;34m.\u001b[0m\u001b[0mld\u001b[0m\u001b[0;34m(\u001b[0m\u001b[0mtf\u001b[0m\u001b[0;34m)\u001b[0m\u001b[0;34m.\u001b[0m\u001b[0mconstant\u001b[0m\u001b[0;34m,\u001b[0m \u001b[0;34m(\u001b[0m\u001b[0;36m2.0\u001b[0m\u001b[0;34m,\u001b[0m\u001b[0;34m)\u001b[0m\u001b[0;34m,\u001b[0m \u001b[0mdict\u001b[0m\u001b[0;34m(\u001b[0m\u001b[0mdtype\u001b[0m\u001b[0;34m=\u001b[0m\u001b[0mag__\u001b[0m\u001b[0;34m.\u001b[0m\u001b[0mld\u001b[0m\u001b[0;34m(\u001b[0m\u001b[0mtf\u001b[0m\u001b[0;34m)\u001b[0m\u001b[0;34m.\u001b[0m\u001b[0mfloat32\u001b[0m\u001b[0;34m)\u001b[0m\u001b[0;34m,\u001b[0m \u001b[0mfscope\u001b[0m\u001b[0;34m)\u001b[0m\u001b[0;34m)\u001b[0m\u001b[0;34m,\u001b[0m \u001b[0mfalse_fn\u001b[0m\u001b[0;34m=\u001b[0m\u001b[0mag__\u001b[0m\u001b[0;34m.\u001b[0m\u001b[0mautograph_artifact\u001b[0m\u001b[0;34m(\u001b[0m\u001b[0;32mlambda\u001b[0m \u001b[0;34m:\u001b[0m \u001b[0mag__\u001b[0m\u001b[0;34m.\u001b[0m\u001b[0mld\u001b[0m\u001b[0;34m(\u001b[0m\u001b[0mx\u001b[0m\u001b[0;34m)\u001b[0m \u001b[0;34m*\u001b[0m \u001b[0mag__\u001b[0m\u001b[0;34m.\u001b[0m\u001b[0mld\u001b[0m\u001b[0;34m(\u001b[0m\u001b[0mself\u001b[0m\u001b[0;34m)\u001b[0m\u001b[0;34m.\u001b[0m\u001b[0my\u001b[0m\u001b[0;34m)\u001b[0m\u001b[0;34m)\u001b[0m\u001b[0;34m,\u001b[0m \u001b[0mfscope\u001b[0m\u001b[0;34m)\u001b[0m\u001b[0;34m\u001b[0m\u001b[0;34m\u001b[0m\u001b[0m\n\u001b[0m\u001b[1;32m     13\u001b[0m                 \u001b[0;32mexcept\u001b[0m\u001b[0;34m:\u001b[0m\u001b[0;34m\u001b[0m\u001b[0;34m\u001b[0m\u001b[0m\n\u001b[1;32m     14\u001b[0m                     \u001b[0mdo_return\u001b[0m \u001b[0;34m=\u001b[0m \u001b[0;32mFalse\u001b[0m\u001b[0;34m\u001b[0m\u001b[0;34m\u001b[0m\u001b[0m\n",
            "\u001b[0;31mTypeError\u001b[0m: in user code:\n\n    File \"<ipython-input-80-194099d778ed>\", line 15, in __call__  *\n        false_fn=lambda: x * self.y,\n\n    TypeError: Expected string, but got 1.0 of type 'float'.\n"
          ]
        }
      ]
    },
    {
      "cell_type": "markdown",
      "source": [
        "Why are we getting an error complaining about a datatype issue on an operation that we never expected to execute?\n",
        "\n",
        "The issue is that tensorflow will create the execution graph without regard for whether certain branches are prohibited with by certain data type configurations. \n",
        "\n",
        "The solution here is to have at most one data type per variable used in tensorflow graph, which might require some variable pre-processing. See the code below."
      ],
      "metadata": {
        "id": "R-DRAz15vcZi"
      }
    },
    {
      "cell_type": "code",
      "source": [
        "class Example1Fixed:\n",
        "\n",
        "    def __init__(self, y):\n",
        "\n",
        "        if isinstance(y, str):\n",
        "          self.y_float = tf.constant(2.0, dtype=tf.float32)\n",
        "        else:\n",
        "          self.y_float = tf.keras.backend.cast_to_floatx(y)\n",
        "        self.y = tf.convert_to_tensor(y)\n",
        "\n",
        "\n",
        "    @tf.function\n",
        "    def __call__(self, x):\n",
        "\n",
        "        return x * self.y_float\n",
        "\n",
        "\n",
        "example = Example1Fixed(y=2.0)\n",
        "print(f'{example(1.0).numpy() = }')\n",
        "\n",
        "example = Example1Fixed(y='string')\n",
        "print(f'{example(1.0).numpy() = }')"
      ],
      "metadata": {
        "colab": {
          "base_uri": "https://localhost:8080/"
        },
        "id": "nbUjIfrrrRoW",
        "outputId": "7072f3a1-6c4f-4ce9-aea9-94b8f7e11e63"
      },
      "execution_count": 84,
      "outputs": [
        {
          "output_type": "stream",
          "name": "stdout",
          "text": [
            "example(1.0).numpy() = 2.0\n",
            "example(1.0).numpy() = 2.0\n"
          ]
        }
      ]
    },
    {
      "cell_type": "markdown",
      "source": [
        "*Note: One important characteristic of this example (and all of the examples below) is that if you comment out the `@tf.function`, everything works as you would expect. In this case, we are running regular Python code, not a tensorflow graph.*"
      ],
      "metadata": {
        "id": "p3jujGWFxesu"
      }
    },
    {
      "cell_type": "markdown",
      "source": [
        "# Example 2: TensorFlow's Magic Cure: Now with Zero Side Effects!\n",
        "\n",
        "This example deals with how side effects work inside tensorflow graphs. Here we have a function that should update the `side_effect` attribute of the class depending on the branch taken in the `tf.cond`. One might expect that after running the code, that the `side_effect` attribute will be the same as the `pred` value passed into the constructor. "
      ],
      "metadata": {
        "id": "FjJRe9rFzECx"
      }
    },
    {
      "cell_type": "code",
      "source": [
        "class Example2:\n",
        "\n",
        "  def __init__(self, pred):\n",
        "\n",
        "    self.pred = tf.cast(pred, tf.bool)\n",
        "\n",
        "  @tf.function\n",
        "  def __call__(self):\n",
        "\n",
        "      tf.cond(self.pred,\n",
        "        self._true_func,\n",
        "        self._false_func\n",
        "      )\n",
        "\n",
        "  def _true_func(self):\n",
        "\n",
        "    self.side_effect = True\n",
        "\n",
        "  def _false_func(self):\n",
        "\n",
        "    self.side_effect = False\n",
        "\n",
        "\n",
        "\n",
        "pred = True\n",
        "c = Example2(pred=pred)\n",
        "c()\n",
        "print(f'{pred = }, {c.side_effect = }\\n')\n",
        "\n",
        "pred = False\n",
        "c = Example2(pred=pred)\n",
        "c()\n",
        "print(f'{pred = }, {c.side_effect = }\\n')"
      ],
      "metadata": {
        "colab": {
          "base_uri": "https://localhost:8080/"
        },
        "id": "nnmcotwUzDBd",
        "outputId": "8e21a2b8-840e-4ba5-f619-74f36009ca98"
      },
      "execution_count": 85,
      "outputs": [
        {
          "output_type": "stream",
          "name": "stdout",
          "text": [
            "pred = True, c.side_effect = False\n",
            "\n",
            "pred = False, c.side_effect = False\n",
            "\n"
          ]
        }
      ]
    },
    {
      "cell_type": "markdown",
      "source": [
        "Oddly, it seems that the side effect is set to `False` in both cases.\n",
        "\n",
        "What's happening here is that the attribute is being set when the graph is constructed, when both branches are passed. Since the `False` branch is executed second, this is the attribute value that persists. \n",
        "\n",
        "To work around this, you can get the expected behavior by setting the `side_effect` attribute as a tf.Variable. "
      ],
      "metadata": {
        "id": "-o39CQUD2E5E"
      }
    },
    {
      "cell_type": "code",
      "source": [
        "import tensorflow as tf\n",
        "\n",
        "class Example2Fixed:\n",
        "\n",
        "    def __init__(self, pred):\n",
        "        self.pred = tf.cast(pred, tf.bool)\n",
        "        self.side_effect = tf.Variable(False, dtype=tf.bool)\n",
        "\n",
        "    @tf.function\n",
        "    def __call__(self):\n",
        "\n",
        "        tf.cond(self.pred, self._true_func, self._false_func)\n",
        "\n",
        "    def _true_func(self):\n",
        "        self.side_effect.assign(True)\n",
        "\n",
        "    def _false_func(self):\n",
        "        self.side_effect.assign(False)\n",
        "\n",
        "\n",
        "pred = True\n",
        "c = Example2Fixed(pred=pred)\n",
        "c()\n",
        "print(f'{pred = }, {c.side_effect.numpy() = }\\n')\n",
        "\n",
        "pred = False\n",
        "c = Example2Fixed(pred=pred)\n",
        "c()\n",
        "print(f'{pred = }, {c.side_effect.numpy() = }\\n')"
      ],
      "metadata": {
        "colab": {
          "base_uri": "https://localhost:8080/"
        },
        "id": "BpYo94PyzSoT",
        "outputId": "c79dba97-4d09-482d-a6c0-46521c3f2cbf"
      },
      "execution_count": 75,
      "outputs": [
        {
          "output_type": "stream",
          "name": "stdout",
          "text": [
            "pred = True, c.side_effect.numpy() = True\n",
            "\n",
            "pred = False, c.side_effect.numpy() = False\n",
            "\n"
          ]
        }
      ]
    },
    {
      "cell_type": "markdown",
      "source": [
        "# Example 3: Some things never change (in tensorflow graphs)\n",
        "\n",
        "This example deals with how tensorflow graphs handle attribute updates after construction. Here you might expect that the function output would change after one of the core parameters of the function was updated. "
      ],
      "metadata": {
        "id": "UPJwXTPh4svp"
      }
    },
    {
      "cell_type": "code",
      "source": [
        "class Example3:\n",
        "\n",
        "  def __init__(self, x):\n",
        "\n",
        "    self.x = x\n",
        "\n",
        "  @tf.function\n",
        "  def __call__(self, y):\n",
        "    return self.x * y\n",
        "\n",
        "example = Example3(1)\n",
        "print(f'{example.x = }, {example(2).numpy() = }')\n",
        "\n",
        "example.x = 2\n",
        "print(f'{example.x = }, {example(2).numpy() = }')\n"
      ],
      "metadata": {
        "colab": {
          "base_uri": "https://localhost:8080/"
        },
        "id": "OyjK3cIn2517",
        "outputId": "af8aaa35-a993-4796-ffd8-4988b7244d84"
      },
      "execution_count": 76,
      "outputs": [
        {
          "output_type": "stream",
          "name": "stdout",
          "text": [
            "example.x = 1, example(2).numpy() = 2\n",
            "example.x = 2, example(2).numpy() = 2\n"
          ]
        }
      ]
    },
    {
      "cell_type": "markdown",
      "source": [
        "As you should have foreseen by this point, tensorflow did not exhibit the expected behavior. Similarly to the last example, the solution in this case is to set `x` as a `tf.Variable`, and update its value with the `assign` method. "
      ],
      "metadata": {
        "id": "L5gkm_2O50hn"
      }
    },
    {
      "cell_type": "code",
      "source": [
        "import tensorflow as tf\n",
        "\n",
        "class Example3Fixed:\n",
        "\n",
        "    def __init__(self, x):\n",
        "        self.x = tf.Variable(x, dtype=tf.float32)\n",
        "\n",
        "    @tf.function\n",
        "    def __call__(self, y):\n",
        "        return self.x * y\n",
        "\n",
        "example = Example3Fixed(1)\n",
        "print(f'{example.x.numpy() = }, {example(2).numpy() = }')\n",
        "\n",
        "example.x.assign(2.0)\n",
        "print(f'{example.x.numpy() = }, {example(2).numpy() = }')"
      ],
      "metadata": {
        "colab": {
          "base_uri": "https://localhost:8080/"
        },
        "id": "2I5qO6tn5P4P",
        "outputId": "6e98c56f-4998-4bf1-c589-4d2daf025bf6"
      },
      "execution_count": 86,
      "outputs": [
        {
          "output_type": "stream",
          "name": "stdout",
          "text": [
            "example.x.numpy() = 1.0, example(2).numpy() = 2.0\n",
            "example.x.numpy() = 2.0, example(2).numpy() = 4.0\n"
          ]
        }
      ]
    },
    {
      "cell_type": "markdown",
      "source": [
        "# Example 4: Be specific about your ambiguity\n",
        "\n",
        "This example deals with ambiguous shapes of tf.Variables. In the code below, the `variable` attribute is a `tf.Variable` with unspecified shape `tf.TensorShape(None)`. \n",
        "\n",
        "The `tf.cond` in the `__call__` method returns either the variable value or the input value. Since the variable shape is completely unspecified, you might reasonably expect that tensorflow can handle any shape for `x`."
      ],
      "metadata": {
        "id": "louCxNI07Gye"
      }
    },
    {
      "cell_type": "code",
      "source": [
        "class Example4:\n",
        "\n",
        "  def __init__(self):\n",
        "\n",
        "    self.variable = tf.Variable(1.0, shape=tf.TensorShape(None))\n",
        "\n",
        "  @tf.function\n",
        "  def __call__(self, x):\n",
        "\n",
        "    variable = tf.cond(\n",
        "      tf.math.greater(x, 0.0), \n",
        "      lambda: self.update_variable(x),\n",
        "      lambda: self.variable\n",
        "    )\n",
        "\n",
        "    return variable * x\n",
        "\n",
        "  def update_variable(self, x):\n",
        "\n",
        "    self.variable.assign(x)\n",
        "\n",
        "    return x\n",
        "\n",
        "example = Example4()\n",
        "x = tf.constant(1.0)\n",
        "\n",
        "with tf.GradientTape() as tape:\n",
        "  tape.watch(x)\n",
        "  res = example(x)\n",
        "\n",
        "grad = tape.gradient(res, x)\n",
        "\n",
        "print(f'{grad.numpy() = }')"
      ],
      "metadata": {
        "colab": {
          "base_uri": "https://localhost:8080/",
          "height": 423
        },
        "id": "LHMVBpX_6dSi",
        "outputId": "521a2475-f90f-41cc-ea2f-8c46b40ebf2a"
      },
      "execution_count": 87,
      "outputs": [
        {
          "output_type": "error",
          "ename": "ValueError",
          "evalue": "ignored",
          "traceback": [
            "\u001b[0;31m---------------------------------------------------------------------------\u001b[0m",
            "\u001b[0;31mValueError\u001b[0m                                Traceback (most recent call last)",
            "\u001b[0;32m<ipython-input-87-20722a7dd4c4>\u001b[0m in \u001b[0;36m<cell line: 27>\u001b[0;34m()\u001b[0m\n\u001b[1;32m     27\u001b[0m \u001b[0;32mwith\u001b[0m \u001b[0mtf\u001b[0m\u001b[0;34m.\u001b[0m\u001b[0mGradientTape\u001b[0m\u001b[0;34m(\u001b[0m\u001b[0;34m)\u001b[0m \u001b[0;32mas\u001b[0m \u001b[0mtape\u001b[0m\u001b[0;34m:\u001b[0m\u001b[0;34m\u001b[0m\u001b[0;34m\u001b[0m\u001b[0m\n\u001b[1;32m     28\u001b[0m   \u001b[0mtape\u001b[0m\u001b[0;34m.\u001b[0m\u001b[0mwatch\u001b[0m\u001b[0;34m(\u001b[0m\u001b[0mx\u001b[0m\u001b[0;34m)\u001b[0m\u001b[0;34m\u001b[0m\u001b[0;34m\u001b[0m\u001b[0m\n\u001b[0;32m---> 29\u001b[0;31m   \u001b[0mres\u001b[0m \u001b[0;34m=\u001b[0m \u001b[0mexample\u001b[0m\u001b[0;34m(\u001b[0m\u001b[0mx\u001b[0m\u001b[0;34m)\u001b[0m\u001b[0;34m\u001b[0m\u001b[0;34m\u001b[0m\u001b[0m\n\u001b[0m\u001b[1;32m     30\u001b[0m \u001b[0;34m\u001b[0m\u001b[0m\n\u001b[1;32m     31\u001b[0m \u001b[0mgrad\u001b[0m \u001b[0;34m=\u001b[0m \u001b[0mtape\u001b[0m\u001b[0;34m.\u001b[0m\u001b[0mgradient\u001b[0m\u001b[0;34m(\u001b[0m\u001b[0mres\u001b[0m\u001b[0;34m,\u001b[0m \u001b[0mx\u001b[0m\u001b[0;34m)\u001b[0m\u001b[0;34m\u001b[0m\u001b[0;34m\u001b[0m\u001b[0m\n",
            "\u001b[0;32m/usr/local/lib/python3.10/dist-packages/tensorflow/python/util/traceback_utils.py\u001b[0m in \u001b[0;36merror_handler\u001b[0;34m(*args, **kwargs)\u001b[0m\n\u001b[1;32m    151\u001b[0m     \u001b[0;32mexcept\u001b[0m \u001b[0mException\u001b[0m \u001b[0;32mas\u001b[0m \u001b[0me\u001b[0m\u001b[0;34m:\u001b[0m\u001b[0;34m\u001b[0m\u001b[0;34m\u001b[0m\u001b[0m\n\u001b[1;32m    152\u001b[0m       \u001b[0mfiltered_tb\u001b[0m \u001b[0;34m=\u001b[0m \u001b[0m_process_traceback_frames\u001b[0m\u001b[0;34m(\u001b[0m\u001b[0me\u001b[0m\u001b[0;34m.\u001b[0m\u001b[0m__traceback__\u001b[0m\u001b[0;34m)\u001b[0m\u001b[0;34m\u001b[0m\u001b[0;34m\u001b[0m\u001b[0m\n\u001b[0;32m--> 153\u001b[0;31m       \u001b[0;32mraise\u001b[0m \u001b[0me\u001b[0m\u001b[0;34m.\u001b[0m\u001b[0mwith_traceback\u001b[0m\u001b[0;34m(\u001b[0m\u001b[0mfiltered_tb\u001b[0m\u001b[0;34m)\u001b[0m \u001b[0;32mfrom\u001b[0m \u001b[0;32mNone\u001b[0m\u001b[0;34m\u001b[0m\u001b[0;34m\u001b[0m\u001b[0m\n\u001b[0m\u001b[1;32m    154\u001b[0m     \u001b[0;32mfinally\u001b[0m\u001b[0;34m:\u001b[0m\u001b[0;34m\u001b[0m\u001b[0;34m\u001b[0m\u001b[0m\n\u001b[1;32m    155\u001b[0m       \u001b[0;32mdel\u001b[0m \u001b[0mfiltered_tb\u001b[0m\u001b[0;34m\u001b[0m\u001b[0;34m\u001b[0m\u001b[0m\n",
            "\u001b[0;32m/usr/local/lib/python3.10/dist-packages/tensorflow/python/framework/constant_op.py\u001b[0m in \u001b[0;36m_tensor_shape_tensor_conversion_function\u001b[0;34m(s, dtype, name, as_ref)\u001b[0m\n\u001b[1;32m    358\u001b[0m   \u001b[0m_\u001b[0m \u001b[0;34m=\u001b[0m \u001b[0mas_ref\u001b[0m\u001b[0;34m\u001b[0m\u001b[0;34m\u001b[0m\u001b[0m\n\u001b[1;32m    359\u001b[0m   \u001b[0;32mif\u001b[0m \u001b[0;32mnot\u001b[0m \u001b[0ms\u001b[0m\u001b[0;34m.\u001b[0m\u001b[0mis_fully_defined\u001b[0m\u001b[0;34m(\u001b[0m\u001b[0;34m)\u001b[0m\u001b[0;34m:\u001b[0m\u001b[0;34m\u001b[0m\u001b[0;34m\u001b[0m\u001b[0m\n\u001b[0;32m--> 360\u001b[0;31m     raise ValueError(\n\u001b[0m\u001b[1;32m    361\u001b[0m         f\"Cannot convert a partially known TensorShape {s} to a Tensor.\")\n\u001b[1;32m    362\u001b[0m   \u001b[0ms_list\u001b[0m \u001b[0;34m=\u001b[0m \u001b[0ms\u001b[0m\u001b[0;34m.\u001b[0m\u001b[0mas_list\u001b[0m\u001b[0;34m(\u001b[0m\u001b[0;34m)\u001b[0m\u001b[0;34m\u001b[0m\u001b[0;34m\u001b[0m\u001b[0m\n",
            "\u001b[0;31mValueError\u001b[0m: Cannot convert a partially known TensorShape <unknown> to a Tensor."
          ]
        }
      ]
    },
    {
      "cell_type": "markdown",
      "source": [
        "Here we see a complaint about a `partially known TensorShape`. The issue here is that one branch is returning a `tf.Variable` with partially unknown shape, and the other is returning a tensor with no shape ambiguity. \n",
        "\n",
        "The fix is surprisingly simple. If we have the function pass back the updated `variable`, which has the undetermined shape specification, the code runs fine. "
      ],
      "metadata": {
        "id": "50Rukz61Aakr"
      }
    },
    {
      "cell_type": "code",
      "source": [
        "class Example4Fixed:\n",
        "\n",
        "  def __init__(self):\n",
        "\n",
        "    self.variable = tf.Variable(1.0, shape=tf.TensorShape(None))\n",
        "\n",
        "  @tf.function\n",
        "  def __call__(self, x):\n",
        "\n",
        "    variable = tf.cond(\n",
        "      tf.math.greater(x, 0.0), \n",
        "      lambda: self.update_variable(x),\n",
        "      lambda: self.variable\n",
        "    )\n",
        "\n",
        "    return variable * x\n",
        "\n",
        "  def update_variable(self, x):\n",
        "\n",
        "    self.variable.assign(x)\n",
        "\n",
        "    return self.variable\n",
        "\n",
        "example = Example4Fixed()\n",
        "x = tf.constant(1.0)\n",
        "\n",
        "with tf.GradientTape() as tape:\n",
        "  tape.watch(x)\n",
        "  res = example(x)\n",
        "\n",
        "grad = tape.gradient(res, x)\n",
        "\n",
        "print(f'{grad.numpy() = }')"
      ],
      "metadata": {
        "colab": {
          "base_uri": "https://localhost:8080/"
        },
        "id": "29uUSRJ_7NXP",
        "outputId": "ee1aba8b-c9d4-47a2-a22e-4036edc98d40"
      },
      "execution_count": 88,
      "outputs": [
        {
          "output_type": "stream",
          "name": "stdout",
          "text": [
            "grad.numpy() = 1.0\n"
          ]
        }
      ]
    },
    {
      "cell_type": "markdown",
      "source": [
        "*Note: This code actually runs fine outside of the `GradientTape` context manager. This makes it more dangerous, since you may not notice the issue until you've incorporated your function into a model.*"
      ],
      "metadata": {
        "id": "uqhH7qmY_tB9"
      }
    },
    {
      "cell_type": "markdown",
      "source": [
        "# Conclusion\n",
        "\n",
        "Tensorflow is a powerful tool, but unfortunately often behaves in ways that you might not expect. If you find some other nuggets of tensorflow wisdown after spending hours getting to the bottom of a bug, please add them here. "
      ],
      "metadata": {
        "id": "3kKEwi_5GWrJ"
      }
    }
  ]
}